{
 "cells": [
  {
   "cell_type": "code",
   "execution_count": 3,
   "metadata": {},
   "outputs": [
    {
     "ename": "AttributeError",
     "evalue": "'list' object has no attribute 'upper'",
     "output_type": "error",
     "traceback": [
      "\u001b[1;31m---------------------------------------------------------------------------\u001b[0m",
      "\u001b[1;31mAttributeError\u001b[0m                            Traceback (most recent call last)",
      "Cell \u001b[1;32mIn[3], line 2\u001b[0m\n\u001b[0;32m      1\u001b[0m L \u001b[38;5;241m=\u001b[39m [\u001b[38;5;241m1\u001b[39m,\u001b[38;5;241m2\u001b[39m,\u001b[38;5;241m3\u001b[39m]\n\u001b[1;32m----> 2\u001b[0m \u001b[43mL\u001b[49m\u001b[38;5;241;43m.\u001b[39;49m\u001b[43mupper\u001b[49m()\n",
      "\u001b[1;31mAttributeError\u001b[0m: 'list' object has no attribute 'upper'"
     ]
    }
   ],
   "source": [
    "L = [1,2,3]\n",
    "L.upper()"
   ]
  },
  {
   "cell_type": "code",
   "execution_count": 4,
   "metadata": {},
   "outputs": [
    {
     "data": {
      "text/plain": [
       "'ABC'"
      ]
     },
     "execution_count": 4,
     "metadata": {},
     "output_type": "execute_result"
    }
   ],
   "source": [
    "s = 'abc'\n",
    "s.upper()"
   ]
  },
  {
   "cell_type": "code",
   "execution_count": 5,
   "metadata": {},
   "outputs": [
    {
     "ename": "AttributeError",
     "evalue": "'str' object has no attribute 'append'",
     "output_type": "error",
     "traceback": [
      "\u001b[1;31m---------------------------------------------------------------------------\u001b[0m",
      "\u001b[1;31mAttributeError\u001b[0m                            Traceback (most recent call last)",
      "Cell \u001b[1;32mIn[5], line 1\u001b[0m\n\u001b[1;32m----> 1\u001b[0m \u001b[43ms\u001b[49m\u001b[38;5;241;43m.\u001b[39;49m\u001b[43mappend\u001b[49m(\u001b[38;5;124m'\u001b[39m\u001b[38;5;124mx\u001b[39m\u001b[38;5;124m'\u001b[39m)\n",
      "\u001b[1;31mAttributeError\u001b[0m: 'str' object has no attribute 'append'"
     ]
    }
   ],
   "source": [
    "s.append('x')"
   ]
  },
  {
   "cell_type": "markdown",
   "metadata": {},
   "source": [
    "In python, everything treat as an object.\n",
    "\n",
    "It treats datatype like list, tuple, set etc act as the object.\n",
    "\n",
    "\n",
    "What is **oop**? \n",
    "\n",
    "\n",
    "The full form of oop is **Object oriented programming**. In oops we move from generality to specificity.  \n",
    "Make your own datatypes according to your neeeds\n"
   ]
  },
  {
   "cell_type": "markdown",
   "metadata": {},
   "source": [
    "Principle of oops\n",
    "1. Encapsulation\n",
    "2. inheritance\n",
    "3. class\n",
    "4. objects\n",
    "5. Abstraction\n",
    "6. polymorphism"
   ]
  },
  {
   "cell_type": "markdown",
   "metadata": {},
   "source": [
    "# CLASS"
   ]
  },
  {
   "cell_type": "code",
   "execution_count": 1,
   "metadata": {},
   "outputs": [
    {
     "name": "stdout",
     "output_type": "stream",
     "text": [
      "<class 'list'>\n"
     ]
    }
   ],
   "source": [
    "L=[1,2,3]\n",
    "print(type(L))"
   ]
  },
  {
   "cell_type": "code",
   "execution_count": 2,
   "metadata": {},
   "outputs": [
    {
     "ename": "AttributeError",
     "evalue": "'list' object has no attribute 'upper'",
     "output_type": "error",
     "traceback": [
      "\u001b[1;31m---------------------------------------------------------------------------\u001b[0m",
      "\u001b[1;31mAttributeError\u001b[0m                            Traceback (most recent call last)",
      "Cell \u001b[1;32mIn[2], line 1\u001b[0m\n\u001b[1;32m----> 1\u001b[0m \u001b[43mL\u001b[49m\u001b[38;5;241;43m.\u001b[39;49m\u001b[43mupper\u001b[49m()\n",
      "\u001b[1;31mAttributeError\u001b[0m: 'list' object has no attribute 'upper'"
     ]
    }
   ],
   "source": [
    "L.upper()"
   ]
  },
  {
   "cell_type": "markdown",
   "metadata": {},
   "source": [
    "#### All the **datatypes** in the python (list,tuple,int, float, complex,dict, etc) are the classes\n",
    "#### when these datatypes are stored in variable or make the variables of these datatypes can treat as the object of that praticular class\n",
    "\n",
    " all data types are implemented as classes. When you create a variable of a certain data type, that variable is an instance (or object) of the corresponding class. "
   ]
  },
  {
   "cell_type": "markdown",
   "metadata": {},
   "source": [
    "#### Class is the blue print "
   ]
  },
  {
   "cell_type": "markdown",
   "metadata": {},
   "source": [
    "class have two parts: \n",
    "1. attributes,data,property\n",
    "2. methods,function\n",
    "\n",
    "Object is the instance of class"
   ]
  },
  {
   "cell_type": "markdown",
   "metadata": {},
   "source": [
    "## ***Synatx***:\n",
    "**variable = ClassName()**\n"
   ]
  },
  {
   "cell_type": "code",
   "execution_count": 4,
   "metadata": {},
   "outputs": [
    {
     "data": {
      "text/plain": [
       "list"
      ]
     },
     "execution_count": 4,
     "metadata": {},
     "output_type": "execute_result"
    }
   ],
   "source": [
    "# object literal\n",
    "L=[1,2,3]\n",
    "type(L)"
   ]
  },
  {
   "cell_type": "code",
   "execution_count": 7,
   "metadata": {},
   "outputs": [
    {
     "data": {
      "text/plain": [
       "list"
      ]
     },
     "execution_count": 7,
     "metadata": {},
     "output_type": "execute_result"
    }
   ],
   "source": [
    "l=list()\n",
    "type(l)"
   ]
  },
  {
   "cell_type": "markdown",
   "metadata": {},
   "source": [
    "## How to make the class\n",
    "## ***Synatx***:\n",
    "1. class ClassName:\n",
    "\n",
    "\n",
    "\n",
    "\n",
    "Use the **Pascal case**\n",
    "\n",
    "\n",
    "Helloworld\n",
    "\n",
    "MyAtm"
   ]
  },
  {
   "cell_type": "code",
   "execution_count": 27,
   "metadata": {},
   "outputs": [],
   "source": [
    "class Atm:\n",
    "    # Constructor: the function inside the class\n",
    "    # when the object is created use the constructor first\n",
    "    # initializes the object when it is created\n",
    "    # constructor is called automatically when the object is created, it is a \n",
    "    # special function that donot need to be called explicitly or make function call\n",
    "    def __init__(self):\n",
    "        self.pin =' '\n",
    "        self.balance = 0\n",
    "        # to call menu function\n",
    "        self.menu()\n",
    " \n",
    "# Rules for creating variables inside the class\n",
    "# 1. All variables should be created inside the constructor\n",
    "    def menu(self):\n",
    "        user_input = input(\"\"\"\n",
    "                           how can I help you?\n",
    "                           1. please enter 1 for pin creation,\\n\n",
    "                           2. please enter 2 for change pin,\\n\n",
    "                           3. please enter 3 for balance check,\\n\n",
    "                           4. please enter 4 for withdrawal,\\n\n",
    "                           5. Anything else to exist\\n\n",
    "                           \"\"\")\n",
    "        \n",
    "        if user_input == '1':\n",
    "            # pin creation\n",
    "            self.create_pin()\n",
    "        elif user_input == '2':\n",
    "            # change pin\n",
    "            self.change_pin()\n",
    "        elif user_input == '3':\n",
    "            # balance check\n",
    "            pass\n",
    "        elif user_input == '4':\n",
    "            # withdrawal\n",
    "            pass\n",
    "        else :\n",
    "            # exit\n",
    "            exit()\n",
    "                    \n",
    "    def create_pin(self):\n",
    "            user_pin = input('please enter your pin')\n",
    "            self.pin = user_pin\n",
    "            user_balance = int(input('please enter your balance'))\n",
    "            self.balance = user_balance\n",
    "            print('pin created successfully')\n",
    "    def change_pin(self):\n",
    "        old_pin = input('please enter your old pin')\n",
    "        if old_pin == self.pin:\n",
    "            user_new_pin = input('please enter your new pin')\n",
    "            self.pin = user_new_pin\n",
    "            print('pin changed successfully')\n",
    "            self.menu()\n",
    "        else:\n",
    "            print('invalid pin')\n",
    "            self.menu()"
   ]
  },
  {
   "cell_type": "code",
   "execution_count": 28,
   "metadata": {},
   "outputs": [
    {
     "name": "stdout",
     "output_type": "stream",
     "text": [
      "pin created successfully\n",
      "<class '__main__.Atm'>\n"
     ]
    }
   ],
   "source": [
    "# to create the object of the class\n",
    "obj = Atm()\n",
    "# check the type of the object\n",
    "print(type(obj))\n"
   ]
  }
 ],
 "metadata": {
  "kernelspec": {
   "display_name": "Python 3",
   "language": "python",
   "name": "python3"
  },
  "language_info": {
   "codemirror_mode": {
    "name": "ipython",
    "version": 3
   },
   "file_extension": ".py",
   "mimetype": "text/x-python",
   "name": "python",
   "nbconvert_exporter": "python",
   "pygments_lexer": "ipython3",
   "version": "3.12.3"
  }
 },
 "nbformat": 4,
 "nbformat_minor": 2
}
